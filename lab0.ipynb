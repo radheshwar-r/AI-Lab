{
  "nbformat": 4,
  "nbformat_minor": 0,
  "metadata": {
    "colab": {
      "provenance": []
    },
    "kernelspec": {
      "name": "python3",
      "display_name": "Python 3"
    },
    "language_info": {
      "name": "python"
    }
  },
  "cells": [
    {
      "cell_type": "markdown",
      "source": [
        "# The Rabbit Leap problem"
      ],
      "metadata": {
        "id": "CHPfFE1iSKtU"
      }
    },
    {
      "cell_type": "code",
      "execution_count": 25,
      "metadata": {
        "colab": {
          "base_uri": "https://localhost:8080/"
        },
        "id": "ChpKjMvY8okc",
        "outputId": "17b4ae73-5c65-4448-9e8f-52499aa0ee1c"
      },
      "outputs": [
        {
          "output_type": "stream",
          "name": "stdout",
          "text": [
            "eee_www\n",
            "eeew_ww\n",
            "ee_weww\n",
            "e_eweww\n",
            "ewe_eww\n",
            "ewewe_w\n",
            "ewewew_\n",
            "ewew_we\n",
            "ew_wewe\n",
            "_wewewe\n",
            "w_ewewe\n",
            "wwe_ewe\n",
            "wwewe_e\n",
            "wwew_ee\n",
            "ww_weee\n",
            "www_eee\n",
            "visited state count:  136\n"
          ]
        },
        {
          "output_type": "execute_result",
          "data": {
            "text/plain": [
              "True"
            ]
          },
          "metadata": {},
          "execution_count": 25
        }
      ],
      "source": [
        "def moveGen(state, closed, opened):\n",
        "  moves = []\n",
        "  state = list(state)\n",
        "  closed = list(map(lambda x: x[0], closed))\n",
        "  opened = list(map(lambda x: x[0], opened))\n",
        "  spid = state.index('_')\n",
        "\n",
        "  # move empty space left by one\n",
        "  if spid > 0:\n",
        "    s_copy = state.copy()\n",
        "    s_copy[spid] = s_copy[spid-1]\n",
        "    s_copy[spid-1] = '_'\n",
        "    s_copy = \"\".join(s_copy)\n",
        "    if not (s_copy in closed or s_copy in opened): moves.append(s_copy)\n",
        "  \n",
        "  # move empty space rigth by one\n",
        "  if spid < len(state)-1:\n",
        "    s_copy = state.copy()\n",
        "    s_copy[spid] = s_copy[spid+1]\n",
        "    s_copy[spid+1] = '_'\n",
        "    s_copy = \"\".join(s_copy)\n",
        "    if not (s_copy in closed or s_copy in opened): moves.append(s_copy)\n",
        "  \n",
        "  # move empty space jump over left\n",
        "  if spid >= 2 and state[spid - 1] != state[spid - 2]:\n",
        "    s_copy = state.copy()\n",
        "    s_copy[spid] = s_copy[spid-2]\n",
        "    s_copy[spid-2] = '_'\n",
        "    s_copy = \"\".join(s_copy)\n",
        "    if not (s_copy in closed or s_copy in opened) : moves.append(s_copy)\n",
        "  \n",
        "  # move empty space jump over right\n",
        "  if len(state) - spid > 2 and state[spid + 1] != state[spid + 2]:\n",
        "    s_copy = state.copy()\n",
        "    s_copy[spid] = s_copy[spid+2]\n",
        "    s_copy[spid+2] = '_'\n",
        "    s_copy = \"\".join(s_copy)\n",
        "    if not (s_copy in closed or s_copy in opened): moves.append(s_copy)\n",
        "\n",
        "  return moves\n",
        "\n",
        "def printPath(current, closed):\n",
        "  node, parent = current\n",
        "  print(node)\n",
        "  while parent is not None:\n",
        "    print(parent)\n",
        "    next_node = list(filter(lambda x : x[0] == parent, closed))\n",
        "    parent = next_node[0][1] if len(next_node) == 1 else print('multiple parent found')\n",
        "def bfs(ini_pos, target):\n",
        "  opened = [(ini_pos, None)]\n",
        "  closed = set()\n",
        "  \n",
        "  while len(opened) != 0:\n",
        "    current = opened.pop(0)\n",
        "    closed.add(current)\n",
        "    node, parent = current\n",
        "    if node == target:\n",
        "      printPath(current, closed)\n",
        "      print(\"visited state count: \", len(closed))\n",
        "      return True\n",
        "    next_moves = moveGen(node, closed, opened)\n",
        "    for move in next_moves:\n",
        "      opened.append((move, node))\n",
        "  print(\"visited state count: \", len(closed))\n",
        "  return False\n",
        "\n",
        "bfs('www_eee', 'eee_www')"
      ]
    },
    {
      "cell_type": "markdown",
      "source": [
        "# The missionaries and cannibals problem"
      ],
      "metadata": {
        "id": "bDc_gWRDSR7G"
      }
    },
    {
      "cell_type": "code",
      "source": [
        "from collections import deque\n",
        "\n",
        "# state of the problem, represented as a tuple (left_bank, right_bank, boat_position)\n",
        "# each bank is a tuple (missionaries, cannibals)\n",
        "# boat_position is 1 for left_bank, and -1 for right_bank\n",
        "initial_state = ((3, 3), (0, 0), 1)\n",
        "goal_state = ((0, 0), (3, 3), -1)\n",
        "\n",
        "def is_valid_state(state):\n",
        "    # check if the state is valid\n",
        "    left_bank, right_bank, boat_position = state\n",
        "    if not 0 <= left_bank[0] <= 3 or not 0 <= left_bank[1] <= 3:\n",
        "        return False\n",
        "    if not 0 <= right_bank[0] <= 3 or not 0 <= right_bank[1] <= 3:\n",
        "        return False\n",
        "    if left_bank[0] < left_bank[1] and left_bank[0] > 0:\n",
        "        return False\n",
        "    if right_bank[0] < right_bank[1] and right_bank[0] > 0:\n",
        "        return False\n",
        "    return True\n",
        "\n",
        "def get_possible_states(state):\n",
        "    # generate possible next states\n",
        "    left_bank, right_bank, boat_position = state\n",
        "    possible_states = []\n",
        "    if boat_position == 1:\n",
        "        for i in range(3):\n",
        "            for j in range(3):\n",
        "                if i + j > 2 or i + j == 0:\n",
        "                    continue\n",
        "                new_left_bank = (left_bank[0] - i, left_bank[1] - j)\n",
        "                new_right_bank = (right_bank[0] + i, right_bank[1] + j)\n",
        "                new_boat_position = -1\n",
        "                new_state = (new_left_bank, new_right_bank, new_boat_position)\n",
        "                if is_valid_state(new_state):\n",
        "                    possible_states.append(new_state)\n",
        "    else:\n",
        "        for i in range(3):\n",
        "            for j in range(3):\n",
        "                if i + j > 2 or i + j == 0:\n",
        "                    continue\n",
        "                new_left_bank = (left_bank[0] + i, left_bank[1] + j)\n",
        "                new_right_bank = (right_bank[0] - i, right_bank[1] - j)\n",
        "                new_boat_position = 1\n",
        "                new_state = (new_left_bank, new_right_bank, new_boat_position)\n",
        "                if is_valid_state(new_state):\n",
        "                    possible_states.append(new_state)\n",
        "    return possible_states\n",
        "\n",
        "def bfs(initial_state, goal_state):\n",
        "    # perform BFS search\n",
        "    queue = deque([(initial_state, [])])\n",
        "    visited = set()\n",
        "    while queue:\n",
        "        state, path = queue.popleft()\n",
        "        if state == goal_state:\n",
        "            return path\n",
        "        if state not in visited:\n",
        "            visited.add(state)\n",
        "            for next_state in get_possible_states(state):\n",
        "                queue.append((next_state, path + [next_state]))\n",
        "    return None\n",
        "\n",
        "solution = bfs(initial_state, goal_state)\n",
        "if solution:\n",
        "    print(\"Solution found in\", len(solution), \"steps:\")\n",
        "    for i, state in enumerate(solution):\n",
        "        print(i, state)\n",
        "else:\n",
        "    print(\"No solution found.\")\n"
      ],
      "metadata": {
        "colab": {
          "base_uri": "https://localhost:8080/"
        },
        "id": "XuhvcxJ3M1ue",
        "outputId": "9958d1e6-43c5-4fb4-a989-8f020a58e880"
      },
      "execution_count": 39,
      "outputs": [
        {
          "output_type": "stream",
          "name": "stdout",
          "text": [
            "Solution found in 11 steps:\n",
            "0 ((3, 1), (0, 2), -1)\n",
            "1 ((3, 2), (0, 1), 1)\n",
            "2 ((3, 0), (0, 3), -1)\n",
            "3 ((3, 1), (0, 2), 1)\n",
            "4 ((1, 1), (2, 2), -1)\n",
            "5 ((2, 2), (1, 1), 1)\n",
            "6 ((0, 2), (3, 1), -1)\n",
            "7 ((0, 3), (3, 0), 1)\n",
            "8 ((0, 1), (3, 2), -1)\n",
            "9 ((0, 2), (3, 1), 1)\n",
            "10 ((0, 0), (3, 3), -1)\n"
          ]
        }
      ]
    },
    {
      "cell_type": "code",
      "source": [
        "def dfs(state, path):\n",
        "    # perform DFS search\n",
        "    if state == goal_state:\n",
        "        return path\n",
        "    for next_state in get_possible_states(state):\n",
        "        if next_state not in path:\n",
        "            new_path = dfs(next_state, path + [next_state])\n",
        "            if new_path is not None:\n",
        "                return new_path\n",
        "    return None\n",
        "\n",
        "solution = dfs(initial_state, [initial_state])\n",
        "if solution:\n",
        "    print(\"Solution found in\", len(solution), \"steps:\")\n",
        "    for i, state in enumerate(solution):\n",
        "        print(i, state)\n",
        "else:\n",
        "    print(\"No solution found.\")\n",
        "\n",
        "\n",
        "\n",
        "\n",
        "\n",
        "\n"
      ],
      "metadata": {
        "colab": {
          "base_uri": "https://localhost:8080/"
        },
        "id": "op8GU0O1NoAf",
        "outputId": "40bccc5d-9600-45c7-da9b-53c7b0411c37"
      },
      "execution_count": 41,
      "outputs": [
        {
          "output_type": "stream",
          "name": "stdout",
          "text": [
            "Solution found in 12 steps:\n",
            "0 ((3, 3), (0, 0), 1)\n",
            "1 ((3, 1), (0, 2), -1)\n",
            "2 ((3, 2), (0, 1), 1)\n",
            "3 ((3, 0), (0, 3), -1)\n",
            "4 ((3, 1), (0, 2), 1)\n",
            "5 ((1, 1), (2, 2), -1)\n",
            "6 ((2, 2), (1, 1), 1)\n",
            "7 ((0, 2), (3, 1), -1)\n",
            "8 ((0, 3), (3, 0), 1)\n",
            "9 ((0, 1), (3, 2), -1)\n",
            "10 ((0, 2), (3, 1), 1)\n",
            "11 ((0, 0), (3, 3), -1)\n"
          ]
        }
      ]
    }
  ]
}